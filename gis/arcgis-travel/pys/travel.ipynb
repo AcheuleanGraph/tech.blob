{
 "cells": [
  {
   "cell_type": "code",
   "execution_count": 1,
   "metadata": {},
   "outputs": [
    {
     "name": "stdout",
     "output_type": "stream",
     "text": [
      "CheckedOut\n"
     ]
    }
   ],
   "source": [
    "from typing import List\n",
    "from pathlib import Path\n",
    "from argparse import ArgumentParser\n",
    "import arcpy\n",
    "\n",
    "print(arcpy.CheckOutExtension(\"network\"))\n",
    "\n",
    "# set Project database's directory as workspace\n",
    "arcpy.env.workspace = \"TravelProjectPy.gdb\""
   ]
  },
  {
   "cell_type": "code",
   "execution_count": null,
   "metadata": {},
   "outputs": [],
   "source": [
    "# MANUALLY ADD & MAKE basic data:\n",
    "# * seoul_roads (planarized) and hot_places\n",
    "# * make network dataset, set properties (travel mode);"
   ]
  },
  {
   "cell_type": "markdown",
   "metadata": {},
   "source": [
    "# Build Network Dataset Layer"
   ]
  },
  {
   "cell_type": "code",
   "execution_count": 2,
   "metadata": {},
   "outputs": [],
   "source": [
    "# configs\n",
    "nd = \"travel/travel_nd\" # network dataset\n",
    "nd_layer_name = \"travel_nd\" # layer name\n",
    "\n",
    "# make and build\n",
    "arcpy.nax.MakeNetworkDatasetLayer(nd, nd_layer_name)\n",
    "arcpy.nax.BuildNetwork(nd_layer_name)\n",
    "\n",
    "# get travel mode \"walking\"\n",
    "nd_travel_modes = arcpy.nax.GetTravelModes(nd_layer_name)\n",
    "travel_mode = nd_travel_modes[\"walking\"]"
   ]
  },
  {
   "cell_type": "markdown",
   "metadata": {},
   "source": [
    "# Service Area Analysis"
   ]
  },
  {
   "cell_type": "code",
   "execution_count": 3,
   "metadata": {},
   "outputs": [],
   "source": [
    "# configs\n",
    "service_area = arcpy.nax.ServiceArea(nd_layer_name) # set nd layer\n",
    "service_area.defaultImpedanceCutoffs = [100, 500, 1000] # cut offs  \n",
    "service_area.travelMode = travel_mode # use travel mode \"walking\"\n",
    "service_area.distanceUnits = arcpy.nax.DistanceUnits.Meters # distance unit\n",
    "service_area.outputType = arcpy.nax.ServiceAreaOutputType.Polygons\n",
    "service_area.geometryAtOverlap = arcpy.nax.ServiceAreaOverlapGeometry.Overlap\n",
    "\n",
    "# set facilities\n",
    "input_facilities = \"travel/hot_places\"\n",
    "service_area.load(arcpy.nax.ServiceAreaInputDataType.Facilities, input_facilities)\n",
    "\n",
    "# run\n",
    "result = service_area.solve()"
   ]
  },
  {
   "cell_type": "code",
   "execution_count": 4,
   "metadata": {},
   "outputs": [],
   "source": [
    "# export the results to a feature class\n",
    "\n",
    "output_polygons = \"travel/service_area_py\"\n",
    "\n",
    "if result.solveSucceeded:\n",
    "    result.export(arcpy.nax.ServiceAreaOutputDataType.Polygons, output_polygons)\n",
    "else:\n",
    "    print(\"Solve failed\")\n",
    "    print(result.solverMessages(arcpy.nax.MessageSeverity.All))"
   ]
  },
  {
   "cell_type": "markdown",
   "metadata": {},
   "source": [
    "# Spatial Join Analysis"
   ]
  },
  {
   "cell_type": "code",
   "execution_count": 5,
   "metadata": {},
   "outputs": [
    {
     "data": {
      "text/html": [
       "<div class='gpresult'><h2>Messages</h2><div id='messages' data-messages='[\"Start Time: 2024년 7월 19일 금요일 오후 6:44:43\",\"Succeeded at 2024년 7월 19일 금요일 오후 6:44:50 (Elapsed Time: 6.98 seconds)\"]' data-show='true'><div id = 'default' /></div></div>"
      ],
      "text/plain": [
       "<Result 'D:\\\\Dropbox\\\\my_documents\\\\some_repositories\\\\ag-tech-materials\\\\gis\\\\arcgis-travel\\\\TravelProjectPy\\\\TravelProjectPy.gdb\\\\travel\\\\service_area_join_py'>"
      ]
     },
     "execution_count": 5,
     "metadata": {},
     "output_type": "execute_result"
    }
   ],
   "source": [
    "# configs\n",
    "target_features = output_polygons\n",
    "join_features = \"travel/hot_places\"\n",
    "out_feature_class = \"travel/service_area_join_py\"\n",
    "\n",
    "# add \"place_id\" to the join feature\n",
    "arcpy.management.AddField(join_features, \"place_id\", \"LONG\")\n",
    "\n",
    "with arcpy.da.UpdateCursor(join_features, [\"ObjectID\", \"place_id\"]) as c:\n",
    "    for row in c:\n",
    "        row[1] = row[0]\n",
    "        c.updateRow(row)\n",
    "\n",
    "# run\n",
    "arcpy.analysis.SpatialJoin(\n",
    "    target_features, join_features, out_feature_class,\n",
    "    join_operation=\"JOIN_ONE_TO_MANY\",\n",
    "    match_option=\"CONTAINS\",\n",
    ")"
   ]
  },
  {
   "cell_type": "markdown",
   "metadata": {},
   "source": [
    "# LookUp"
   ]
  },
  {
   "cell_type": "code",
   "execution_count": 6,
   "metadata": {},
   "outputs": [
    {
     "name": "stdout",
     "output_type": "stream",
     "text": [
      "It's hard to go to somewhere within 0~100 from 세종대왕상\n",
      "Within 500~1000, You can go to... 광화문, 종로구청 from 세종대왕상\n",
      "Within 500~1000, You can go to... 우정총국, 종로타워, 피마길, 광교 from 세종대왕상\n",
      "\n",
      "It's hard to go to somewhere within 0~100 from 피마길\n",
      "Within 500~1000, You can go to... 종로구청, 종로타워, 광교 from 피마길\n",
      "Within 500~1000, You can go to... 세종대왕상, 광화문, 우정총국, 서울광장 from 피마길\n",
      "\n"
     ]
    }
   ],
   "source": [
    "pid_to_name_dict = {\n",
    "  1: \"세종대왕상\", 2: \"광화문\", 3: \"종로구청\", 4: \"우정총국\", 5: \"종로타워\",\n",
    "  6: \"피마길\", 7: \"광교\", 8: \"명동성당\", 9: \"서울광장\", 10: \"남대문\", 11: \"한국은행\"\n",
    "}\n",
    "\n",
    "def pid_to_name(pid: int) -> str:\n",
    "  return pid_to_name_dict.get(pid)\n",
    "\n",
    "def cutoff0_to_rng(cutoff0) -> str:\n",
    "  if cutoff0==0:\n",
    "    return \"0~100\"\n",
    "  elif cutoff0==50:\n",
    "    return \"100~500\"\n",
    "  else:\n",
    "    return \"500~1000\"\n",
    "\n",
    "\n",
    "def travel_from(\n",
    "  from_id, cutoffs0: List[int]\n",
    ") -> List[str]:\n",
    "  \n",
    "  cutoff0_places = {}\n",
    "\n",
    "  for cutoff0 in cutoffs0:\n",
    "    places = []\n",
    "    with arcpy.da.SearchCursor(out_feature_class, [\"FacilityID\", \"FromBreak\", \"place_id\"]) as c:\n",
    "      for (fid, from_, pid) in c:\n",
    "          if fid==from_id and pid!=from_id and from_==cutoff0 and pid is not None:\n",
    "              places.append(pid)\n",
    "\n",
    "    cutoff0_places[cutoff0] = places\n",
    "    \n",
    "  # print result\n",
    "  for cutoff0, places in cutoff0_places.items():\n",
    "    cutoff_ = cutoff0_to_rng(cutoff0)\n",
    "    if len(places)==0:\n",
    "      print(f\"It's hard to go to somewhere within {cutoff_} from {pid_to_name(from_id)}\")\n",
    "    else:\n",
    "      print(f\"Within {cutoff_}, You can go to... {', '.join([pid_to_name(pid) for pid in places])} from {pid_to_name(from_id)}\")\n",
    "\n",
    "  return cutoff0_places\n",
    "\n",
    "\n",
    "travel_from(1, [0, 100, 500])\n",
    "print()\n",
    "travel_from(6, [0, 100, 500])\n",
    "print()"
   ]
  }
 ],
 "metadata": {
  "kernelspec": {
   "display_name": "ArcGISPro",
   "language": "Python",
   "name": "python3"
  },
  "language_info": {
   "file_extension": ".py",
   "name": "python",
   "version": "3"
  }
 },
 "nbformat": 4,
 "nbformat_minor": 2
}
